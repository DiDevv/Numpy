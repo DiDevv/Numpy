{
 "cells": [
  {
   "cell_type": "code",
   "execution_count": 25,
   "id": "135f54cc",
   "metadata": {},
   "outputs": [],
   "source": [
    "import numpy as np"
   ]
  },
  {
   "cell_type": "markdown",
   "id": "b9788b7e",
   "metadata": {},
   "source": [
    "# Etapa da criação de um Numpy Array\n",
    "\n",
    "O Numpy array é de 10 a 100 vezes mais rápido do que um array do Python puro, além de utilizar menos memória.\n",
    "\n",
    "Os Numpy arrays não arrays N-Dimensionais\n",
    "\n",
    "É possível transformar qualquer sequência de dados em python em um np.array\n",
    "\n",
    "Vale ressaltar que o numpy array é um objeto homogêneo, ou seja, todos os elementos devem ser do mesmo tipo.\n",
    "\n",
    "Todo array tem um corpo, que como podemos ver ao imprimir o np.array na tela, é composto por uma tupla que indica o tamanho de cada **dimensão** desse array.\n",
    "\n",
    "Temos também o **dtype** do array, que é um objeto que descreve o tipo de dado daquele array."
   ]
  },
  {
   "cell_type": "code",
   "execution_count": 61,
   "id": "fbc76350",
   "metadata": {},
   "outputs": [],
   "source": [
    "data1 = [6,5,4,3,2,1]"
   ]
  },
  {
   "cell_type": "code",
   "execution_count": 62,
   "id": "cdcc416b",
   "metadata": {},
   "outputs": [],
   "source": [
    "array1 = np.array(data1)"
   ]
  },
  {
   "cell_type": "code",
   "execution_count": 63,
   "id": "3d73fb8e",
   "metadata": {},
   "outputs": [
    {
     "data": {
      "text/plain": [
       "array([6, 5, 4, 3, 2, 1])"
      ]
     },
     "execution_count": 63,
     "metadata": {},
     "output_type": "execute_result"
    }
   ],
   "source": [
    "array1"
   ]
  },
  {
   "cell_type": "code",
   "execution_count": 64,
   "id": "219c9a9e",
   "metadata": {},
   "outputs": [
    {
     "data": {
      "text/plain": [
       "dtype('int64')"
      ]
     },
     "execution_count": 64,
     "metadata": {},
     "output_type": "execute_result"
    }
   ],
   "source": [
    "array1.dtype"
   ]
  },
  {
   "cell_type": "code",
   "execution_count": 65,
   "id": "69c13e48",
   "metadata": {},
   "outputs": [],
   "source": [
    "data2 = np.random.randn(4,4)"
   ]
  },
  {
   "cell_type": "code",
   "execution_count": 66,
   "id": "163ec15d",
   "metadata": {},
   "outputs": [
    {
     "data": {
      "text/plain": [
       "array([[-0.47994773, -0.04347852,  0.48728507, -0.49173004],\n",
       "       [-1.31663396,  0.24744195, -0.18313381, -0.43051531],\n",
       "       [-0.17094107, -0.07844401, -0.71261076,  0.00244944],\n",
       "       [-0.45009612,  0.92859786,  0.8375331 , -1.31067672]])"
      ]
     },
     "execution_count": 66,
     "metadata": {},
     "output_type": "execute_result"
    }
   ],
   "source": [
    "data2"
   ]
  },
  {
   "cell_type": "code",
   "execution_count": 67,
   "id": "d499c894",
   "metadata": {},
   "outputs": [
    {
     "data": {
      "text/plain": [
       "dtype('float64')"
      ]
     },
     "execution_count": 67,
     "metadata": {},
     "output_type": "execute_result"
    }
   ],
   "source": [
    "data2.dtype"
   ]
  },
  {
   "cell_type": "markdown",
   "id": "49e6102c",
   "metadata": {},
   "source": [
    "Sequências aninhadas como uma lista de listas de mesmo tamanho serão convertidas em um array multidimensional"
   ]
  },
  {
   "cell_type": "code",
   "execution_count": 73,
   "id": "21d34730",
   "metadata": {},
   "outputs": [],
   "source": [
    "data3 = [[1,2,3], [4,5,6], [7,8,9]]"
   ]
  },
  {
   "cell_type": "code",
   "execution_count": 74,
   "id": "c1c9696d",
   "metadata": {},
   "outputs": [],
   "source": [
    "array2 = np.array(data3)"
   ]
  },
  {
   "cell_type": "code",
   "execution_count": 75,
   "id": "0e23d3b5",
   "metadata": {},
   "outputs": [
    {
     "data": {
      "text/plain": [
       "array([[1, 2, 3],\n",
       "       [4, 5, 6],\n",
       "       [7, 8, 9]])"
      ]
     },
     "execution_count": 75,
     "metadata": {},
     "output_type": "execute_result"
    }
   ],
   "source": [
    "array2"
   ]
  },
  {
   "cell_type": "code",
   "execution_count": 90,
   "id": "ab1f17fa",
   "metadata": {},
   "outputs": [],
   "source": [
    "array3 = np.array([[[1, 2, 3], [4, 5, 6]], [[7, 8, 9], [10, 11, 12]], [[13, 14, 15], [16, 17, 18]]])"
   ]
  },
  {
   "cell_type": "code",
   "execution_count": 91,
   "id": "e8eaa525",
   "metadata": {},
   "outputs": [
    {
     "data": {
      "text/plain": [
       "array([[[ 1,  2,  3],\n",
       "        [ 4,  5,  6]],\n",
       "\n",
       "       [[ 7,  8,  9],\n",
       "        [10, 11, 12]],\n",
       "\n",
       "       [[13, 14, 15],\n",
       "        [16, 17, 18]]])"
      ]
     },
     "execution_count": 91,
     "metadata": {},
     "output_type": "execute_result"
    }
   ],
   "source": [
    "array3"
   ]
  },
  {
   "cell_type": "markdown",
   "id": "2c831dbf",
   "metadata": {},
   "source": [
    "Para descobrir a dimensão de um np.array podemos utilizar a função .ndim"
   ]
  },
  {
   "cell_type": "code",
   "execution_count": 86,
   "id": "50312ef7",
   "metadata": {},
   "outputs": [
    {
     "data": {
      "text/plain": [
       "(3, 3)"
      ]
     },
     "execution_count": 86,
     "metadata": {},
     "output_type": "execute_result"
    }
   ],
   "source": [
    "array2.shape"
   ]
  },
  {
   "cell_type": "code",
   "execution_count": 88,
   "id": "7d4ae11f",
   "metadata": {},
   "outputs": [
    {
     "data": {
      "text/plain": [
       "2"
      ]
     },
     "execution_count": 88,
     "metadata": {},
     "output_type": "execute_result"
    }
   ],
   "source": [
    "array2.ndim"
   ]
  },
  {
   "cell_type": "code",
   "execution_count": 98,
   "id": "aa3afc3d",
   "metadata": {},
   "outputs": [
    {
     "data": {
      "text/plain": [
       "(3, 2, 3)"
      ]
     },
     "execution_count": 98,
     "metadata": {},
     "output_type": "execute_result"
    }
   ],
   "source": [
    "array3.shape"
   ]
  },
  {
   "cell_type": "code",
   "execution_count": 99,
   "id": "36ca55d2",
   "metadata": {},
   "outputs": [
    {
     "data": {
      "text/plain": [
       "3"
      ]
     },
     "execution_count": 99,
     "metadata": {},
     "output_type": "execute_result"
    }
   ],
   "source": [
    "array3.ndim"
   ]
  },
  {
   "cell_type": "markdown",
   "id": "fe235689",
   "metadata": {},
   "source": [
    "### Arange é uma versão da função range do python"
   ]
  },
  {
   "cell_type": "markdown",
   "id": "7b495072",
   "metadata": {},
   "source": [
    "Podemos utilizá-la para criar uma determinada sequência de valores.\n",
    "\n",
    "**Lembrando que a contagem de índices de arrays em python começa do zero.**"
   ]
  },
  {
   "cell_type": "code",
   "execution_count": 100,
   "id": "562990eb",
   "metadata": {},
   "outputs": [
    {
     "data": {
      "text/plain": [
       "array([0, 1, 2, 3, 4, 5, 6, 7, 8, 9])"
      ]
     },
     "execution_count": 100,
     "metadata": {},
     "output_type": "execute_result"
    }
   ],
   "source": [
    "np.arange(10)"
   ]
  },
  {
   "cell_type": "code",
   "execution_count": 101,
   "id": "dcf8f9db",
   "metadata": {},
   "outputs": [
    {
     "data": {
      "text/plain": [
       "array([5, 6, 7, 8, 9])"
      ]
     },
     "execution_count": 101,
     "metadata": {},
     "output_type": "execute_result"
    }
   ],
   "source": [
    "np.arange(5,10)"
   ]
  },
  {
   "cell_type": "markdown",
   "id": "cf6f8626",
   "metadata": {},
   "source": [
    "*obs: continuar da página 125 do livro Python para Análise de Dados"
   ]
  }
 ],
 "metadata": {
  "kernelspec": {
   "display_name": "Python 3 (ipykernel)",
   "language": "python",
   "name": "python3"
  },
  "language_info": {
   "codemirror_mode": {
    "name": "ipython",
    "version": 3
   },
   "file_extension": ".py",
   "mimetype": "text/x-python",
   "name": "python",
   "nbconvert_exporter": "python",
   "pygments_lexer": "ipython3",
   "version": "3.11.5"
  }
 },
 "nbformat": 4,
 "nbformat_minor": 5
}
