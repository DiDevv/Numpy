{
 "cells": [
  {
   "cell_type": "code",
   "execution_count": 2,
   "id": "135f54cc",
   "metadata": {},
   "outputs": [],
   "source": [
    "import numpy as np"
   ]
  },
  {
   "cell_type": "markdown",
   "id": "b9788b7e",
   "metadata": {},
   "source": [
    "# Etapa da criação de um Numpy Array\n",
    "\n",
    "O Numpy array é de 10 a 100 vezes mais rápido do que um array do Python puro, além de utilizar menos memória.\n",
    "\n",
    "Os Numpy arrays não arrays N-Dimensionais\n",
    "\n",
    "É possível transformar qualquer sequência de dados em python em um np.array\n",
    "\n",
    "Vale ressaltar que o numpy array é um objeto homogêneo, ou seja, todos os elementos devem ser do mesmo tipo.\n",
    "\n",
    "Todo array tem um corpo, que como podemos ver ao imprimir o np.array na tela, é composto por uma tupla que indica o tamanho de cada **dimensão** desse array.\n",
    "\n",
    "Temos também o **dtype** do array, que é um objeto que descreve o tipo de dado daquele array."
   ]
  },
  {
   "cell_type": "code",
   "execution_count": 3,
   "id": "fbc76350",
   "metadata": {},
   "outputs": [],
   "source": [
    "data1 = [6,5,4,3,2,1]"
   ]
  },
  {
   "cell_type": "code",
   "execution_count": 4,
   "id": "cdcc416b",
   "metadata": {},
   "outputs": [],
   "source": [
    "array1 = np.array(data1)"
   ]
  },
  {
   "cell_type": "code",
   "execution_count": 5,
   "id": "3d73fb8e",
   "metadata": {},
   "outputs": [
    {
     "data": {
      "text/plain": [
       "array([6, 5, 4, 3, 2, 1])"
      ]
     },
     "execution_count": 5,
     "metadata": {},
     "output_type": "execute_result"
    }
   ],
   "source": [
    "array1"
   ]
  },
  {
   "cell_type": "code",
   "execution_count": 6,
   "id": "219c9a9e",
   "metadata": {},
   "outputs": [
    {
     "data": {
      "text/plain": [
       "dtype('int64')"
      ]
     },
     "execution_count": 6,
     "metadata": {},
     "output_type": "execute_result"
    }
   ],
   "source": [
    "array1.dtype"
   ]
  },
  {
   "cell_type": "code",
   "execution_count": 7,
   "id": "69c13e48",
   "metadata": {},
   "outputs": [],
   "source": [
    "data2 = np.random.randn(4,4)"
   ]
  },
  {
   "cell_type": "code",
   "execution_count": 8,
   "id": "163ec15d",
   "metadata": {},
   "outputs": [
    {
     "data": {
      "text/plain": [
       "array([[ 0.10822767,  1.40463847, -1.27875749, -1.0516809 ],\n",
       "       [ 0.44793419,  0.46417408,  1.07785936,  0.18067272],\n",
       "       [-0.4827358 ,  0.51235675, -2.76023912, -0.20457037],\n",
       "       [ 0.51182017,  0.11428956, -1.12107425,  0.84367641]])"
      ]
     },
     "execution_count": 8,
     "metadata": {},
     "output_type": "execute_result"
    }
   ],
   "source": [
    "data2"
   ]
  },
  {
   "cell_type": "code",
   "execution_count": 9,
   "id": "d499c894",
   "metadata": {},
   "outputs": [
    {
     "data": {
      "text/plain": [
       "dtype('float64')"
      ]
     },
     "execution_count": 9,
     "metadata": {},
     "output_type": "execute_result"
    }
   ],
   "source": [
    "data2.dtype"
   ]
  },
  {
   "cell_type": "markdown",
   "id": "49e6102c",
   "metadata": {},
   "source": [
    "Sequências aninhadas como uma lista de listas de mesmo tamanho serão convertidas em um array multidimensional"
   ]
  },
  {
   "cell_type": "code",
   "execution_count": 10,
   "id": "21d34730",
   "metadata": {},
   "outputs": [],
   "source": [
    "data3 = [[1,2,3], [4,5,6], [7,8,9]]"
   ]
  },
  {
   "cell_type": "code",
   "execution_count": 11,
   "id": "c1c9696d",
   "metadata": {},
   "outputs": [],
   "source": [
    "array2 = np.array(data3)"
   ]
  },
  {
   "cell_type": "code",
   "execution_count": 12,
   "id": "0e23d3b5",
   "metadata": {},
   "outputs": [
    {
     "data": {
      "text/plain": [
       "array([[1, 2, 3],\n",
       "       [4, 5, 6],\n",
       "       [7, 8, 9]])"
      ]
     },
     "execution_count": 12,
     "metadata": {},
     "output_type": "execute_result"
    }
   ],
   "source": [
    "array2"
   ]
  },
  {
   "cell_type": "code",
   "execution_count": 13,
   "id": "ab1f17fa",
   "metadata": {},
   "outputs": [],
   "source": [
    "array3 = np.array([[[1, 2, 3], [4, 5, 6]], [[7, 8, 9], [10, 11, 12]], [[13, 14, 15], [16, 17, 18]]])"
   ]
  },
  {
   "cell_type": "code",
   "execution_count": 14,
   "id": "e8eaa525",
   "metadata": {},
   "outputs": [
    {
     "data": {
      "text/plain": [
       "array([[[ 1,  2,  3],\n",
       "        [ 4,  5,  6]],\n",
       "\n",
       "       [[ 7,  8,  9],\n",
       "        [10, 11, 12]],\n",
       "\n",
       "       [[13, 14, 15],\n",
       "        [16, 17, 18]]])"
      ]
     },
     "execution_count": 14,
     "metadata": {},
     "output_type": "execute_result"
    }
   ],
   "source": [
    "array3"
   ]
  },
  {
   "cell_type": "markdown",
   "id": "2c831dbf",
   "metadata": {},
   "source": [
    "Para descobrir a dimensão de um np.array podemos utilizar a função .ndim"
   ]
  },
  {
   "cell_type": "code",
   "execution_count": 15,
   "id": "50312ef7",
   "metadata": {},
   "outputs": [
    {
     "data": {
      "text/plain": [
       "(3, 3)"
      ]
     },
     "execution_count": 15,
     "metadata": {},
     "output_type": "execute_result"
    }
   ],
   "source": [
    "array2.shape"
   ]
  },
  {
   "cell_type": "code",
   "execution_count": 16,
   "id": "7d4ae11f",
   "metadata": {
    "scrolled": true
   },
   "outputs": [
    {
     "data": {
      "text/plain": [
       "2"
      ]
     },
     "execution_count": 16,
     "metadata": {},
     "output_type": "execute_result"
    }
   ],
   "source": [
    "array2.ndim"
   ]
  },
  {
   "cell_type": "code",
   "execution_count": 17,
   "id": "aa3afc3d",
   "metadata": {},
   "outputs": [
    {
     "data": {
      "text/plain": [
       "(3, 2, 3)"
      ]
     },
     "execution_count": 17,
     "metadata": {},
     "output_type": "execute_result"
    }
   ],
   "source": [
    "array3.shape"
   ]
  },
  {
   "cell_type": "code",
   "execution_count": 18,
   "id": "36ca55d2",
   "metadata": {},
   "outputs": [
    {
     "data": {
      "text/plain": [
       "3"
      ]
     },
     "execution_count": 18,
     "metadata": {},
     "output_type": "execute_result"
    }
   ],
   "source": [
    "array3.ndim"
   ]
  },
  {
   "cell_type": "markdown",
   "id": "fe235689",
   "metadata": {},
   "source": [
    "### Arange é uma versão da função range do python"
   ]
  },
  {
   "cell_type": "markdown",
   "id": "7b495072",
   "metadata": {},
   "source": [
    "Podemos utilizá-la para criar uma determinada sequência de valores.\n",
    "\n",
    "**Lembrando que a contagem de índices de arrays em python começa do zero.**"
   ]
  },
  {
   "cell_type": "code",
   "execution_count": 19,
   "id": "562990eb",
   "metadata": {},
   "outputs": [
    {
     "data": {
      "text/plain": [
       "array([0, 1, 2, 3, 4, 5, 6, 7, 8, 9])"
      ]
     },
     "execution_count": 19,
     "metadata": {},
     "output_type": "execute_result"
    }
   ],
   "source": [
    "np.arange(10)"
   ]
  },
  {
   "cell_type": "code",
   "execution_count": 20,
   "id": "dcf8f9db",
   "metadata": {},
   "outputs": [
    {
     "data": {
      "text/plain": [
       "array([5, 6, 7, 8, 9])"
      ]
     },
     "execution_count": 20,
     "metadata": {},
     "output_type": "execute_result"
    }
   ],
   "source": [
    "np.arange(5,10)"
   ]
  },
  {
   "cell_type": "markdown",
   "id": "75ce15f1",
   "metadata": {},
   "source": [
    "## Tabela de Funções padrões para criação de arrays"
   ]
  },
  {
   "cell_type": "markdown",
   "id": "9f23774c",
   "metadata": {},
   "source": [
    "Vale ressaltar que todas essas tabelas foram retiradas do Livro: Python para Análise de Dados - McKinney"
   ]
  },
  {
   "cell_type": "markdown",
   "id": "af0be8ad",
   "metadata": {},
   "source": [
    "|Função|Descrição|\n",
    "|-------|---------|\n",
    "|**array**| Converte dados de entrada em um ndarray.|\n",
    "|**asarray**| Converte a entrada para um ndarray, mas não copia se a entrada já foi um ndarray|\n",
    "|**arange**|Funciona como a função range do python, porém devolve um ndarray ao invés de um array de python|\n",
    "|**ones, ones_like**| Gera um array somente com 1s, com o formato de dtype especificados. **ones_like** aceita outro array e gera um array de uns com o mesmo formato e o mesmo dtype|\n",
    "|**zeros, zeros_like**| Funciona como o ones e ones_like, porém retorna arrays de 0|\n",
    "|**empty, empty_like**|Cria novos arrays alocando nova memória, mas ão preenche nenhum valor, como ones e zeros|\n",
    "|**full, full_like**|Gera um array com o formato e o dtype especificados, com todos os valores definidos com o \"valor de preenchimento\" indicado. **full_like** aceita outro array e gera um array preenchido com o mesmo formato e o mesmo dtype|\n",
    "|**eye, identity**|Cria uma matriz-identidade quadrada NxN (1s na diagonal e 0s nas demais posições|"
   ]
  },
  {
   "cell_type": "markdown",
   "id": "14f61799",
   "metadata": {},
   "source": [
    "## Tabela com tipos de dados para ndarrays"
   ]
  },
  {
   "cell_type": "markdown",
   "id": "e41d4e23",
   "metadata": {},
   "source": [
    "|Função|Descrição|\n",
    "|-------|---------|\n",
    "|**int8, unit8**| Tipos inteiros de 8 bits (1 byte)|\n",
    "|**int16, uint16**| Tipos inteiros ded 16 bits com e sem sinal|\n",
    "|**int32, uint32**|Tipos inteiros de 32 bits com e sem sinal|\n",
    "|**int64, uint64**|Tipos inteiros de 64 bits com e sem sinal|\n",
    "|**float16**|Ponto flutuante com metade da precisão|\n",
    "|**float32**|Ponto flutuante com precisão única, compatível com float de C|\n",
    "|**float64**|Ponto flutuante com dupla precisão, compatível com o double de C e o objeto float de Python|\n",
    "|**float128**|Ponto flutuante com precisão estendida|\n",
    "|**complex64, complex128, complex256**| Números complexos representados por dois floats de 32, 64 ou 128, respectivamente|\n",
    "|**bool**|Valores True ou False|\n",
    "|**object**|Tipos de Objetos de Python, um valor pode ser qualquer objeto Python|\n",
    "|**string_**|Tipo string ASCII de tamanho fixo (1 byte por caractere), se quiser criar um string de tamanho 10, utilizar \"S10\"|\n",
    "|**unicode**|Tipo unicode de tamanho fixo, a mesma semântica de especificação que usamos em **string_**, \"U10\" por exemplo|\n"
   ]
  },
  {
   "cell_type": "markdown",
   "id": "cdfb267a",
   "metadata": {},
   "source": [
    "Parei na página 128 do livro"
   ]
  },
  {
   "cell_type": "code",
   "execution_count": null,
   "id": "1d93eb37",
   "metadata": {},
   "outputs": [],
   "source": []
  }
 ],
 "metadata": {
  "kernelspec": {
   "display_name": "Python 3 (ipykernel)",
   "language": "python",
   "name": "python3"
  },
  "language_info": {
   "codemirror_mode": {
    "name": "ipython",
    "version": 3
   },
   "file_extension": ".py",
   "mimetype": "text/x-python",
   "name": "python",
   "nbconvert_exporter": "python",
   "pygments_lexer": "ipython3",
   "version": "3.11.5"
  }
 },
 "nbformat": 4,
 "nbformat_minor": 5
}
